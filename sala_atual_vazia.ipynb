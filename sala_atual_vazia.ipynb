{
 "cells": [
  {
   "cell_type": "code",
   "execution_count": 2,
   "metadata": {},
   "outputs": [],
   "source": [
    "import pandas as pd\n",
    "import matplotlib.pyplot as plt\n",
    "import math\n",
    "import seaborn as sns"
   ]
  },
  {
   "cell_type": "markdown",
   "metadata": {},
   "source": [
    "01) Dados da Sala de Aula em situação vazia:"
   ]
  },
  {
   "cell_type": "code",
   "execution_count": 3,
   "metadata": {},
   "outputs": [],
   "source": [
    "# Velocidade sonora a 20*C\n",
    "SOUNDSPEED = 343\n",
    "\n",
    "# Dimensões da sala em metros\n",
    "comprimento = 5.89\n",
    "largura = 8.50\n",
    "altura = 3.26\n",
    "\n",
    "# areas em m²\n",
    "janela = 5.58\n",
    "porta = 1.94\n",
    "quadro = 5.45"
   ]
  },
  {
   "cell_type": "markdown",
   "metadata": {},
   "source": [
    "02) Calculo de Área total (S)  "
   ]
  },
  {
   "cell_type": "code",
   "execution_count": 4,
   "metadata": {},
   "outputs": [
    {
     "name": "stdout",
     "output_type": "stream",
     "text": [
      "A area total das Superficies será: S = 193.95 m²\n"
     ]
    }
   ],
   "source": [
    "# Áreas Superficies\n",
    "parede_lateral = (comprimento * altura) * 2\n",
    "parede_fundo = (largura * altura) - janela\n",
    "parede_frente = (largura * altura) - porta\n",
    "piso = largura * comprimento\n",
    "teto = largura * comprimento\n",
    "volume = comprimento * largura * altura\n",
    "area_Total_Superficies = parede_lateral + parede_fundo + parede_frente + piso + teto + porta + janela\n",
    "print(f\"A area total das Superficies será: S = {area_Total_Superficies:.2f} m²\", )"
   ]
  },
  {
   "cell_type": "markdown",
   "metadata": {},
   "source": [
    "03) Criação de um Dataframe preliminar com informações da Sala"
   ]
  },
  {
   "cell_type": "code",
   "execution_count": 5,
   "metadata": {},
   "outputs": [
    {
     "name": "stdout",
     "output_type": "stream",
     "text": [
      "---------------------------------------------------\n",
      "            Áreas  Superfícies (m²)        Material\n",
      "0  Parede Lateral           38.4028  Parede Pintada\n",
      "1    Parede Fundo           22.1300  Parede Pintada\n",
      "2   Parede Frente           25.7700  Parede Pintada\n",
      "3            Piso           50.0650   Piso Cerâmico\n",
      "4            Teto           50.0650  Parede Pintada\n",
      "5           Porta            1.9400           Porta\n",
      "6          Janela            5.5800           Vidro\n",
      "---------------------------------------------------\n"
     ]
    }
   ],
   "source": [
    "dados = {\n",
    "    \"Áreas\": [\"Parede Lateral\", \"Parede Fundo\", \"Parede Frente\", \"Piso\", \"Teto\", \"Porta\", \"Janela\"],\n",
    "    \"Superfícies (m²)\": [parede_lateral, parede_fundo, parede_frente, piso, teto, porta, janela],\n",
    "    \"Material\":  [\"Parede Pintada\", \"Parede Pintada\", \"Parede Pintada\", \"Piso Cerâmico\", \"Parede Pintada\", \"Porta\", \"Vidro\"]\n",
    "    \n",
    "}\n",
    "\n",
    "df = pd.DataFrame(dados)\n",
    "print(\"---------------------------------------------------\")\n",
    "print(df)\n",
    "print(\"---------------------------------------------------\")"
   ]
  },
  {
   "cell_type": "markdown",
   "metadata": {},
   "source": [
    "04) Frequências sonoras"
   ]
  },
  {
   "cell_type": "code",
   "execution_count": 6,
   "metadata": {},
   "outputs": [],
   "source": [
    "frequencias = [125, 250, 500, 1000, 2000, 4000]"
   ]
  },
  {
   "cell_type": "markdown",
   "metadata": {},
   "source": [
    "05) Inserção de dados dos Coeficientes de absorção dos materiais"
   ]
  },
  {
   "cell_type": "code",
   "execution_count": 7,
   "metadata": {},
   "outputs": [
    {
     "name": "stdout",
     "output_type": "stream",
     "text": [
      "---------------------------------------------------\n",
      "      Piso Cerâmico  Parede Pintada  Porta  Vidro\n",
      "125            0.01            0.14   0.05   0.10\n",
      "250            0.01            0.10   0.00   0.00\n",
      "500            0.01            0.06   0.03   0.04\n",
      "1000           0.02            0.05   0.00   0.00\n",
      "2000           0.02            0.04   0.03   0.02\n",
      "4000           0.02            0.03   0.00   0.00\n",
      "---------------------------------------------------\n"
     ]
    }
   ],
   "source": [
    "mean_alpha = {\n",
    "    \"Piso Cerâmico\": {125: 0.01, 250: 0.01, 500: 0.01, 1000: 0.02, 2000: 0.02, 4000: 0.02},\n",
    "    \"Parede Pintada\": {125: 0.14, 250: 0.10,  500: 0.06, 1000: 0.05, 2000: 0.04, 4000: 0.03},\n",
    "    \"Porta\": {125: 0.05, 250: 0.00, 500: 0.03, 1000: 0.00, 2000: 0.03, 4000: 0.00},\n",
    "    \"Vidro\": {125: 0.10, 250: 0.00, 500: 0.04, 1000: 0.00, 2000: 0.02, 4000: 0.00}\n",
    "}\n",
    "# Adicionar nessa tabela aqui embaixo outros materiais\n",
    "\n",
    "coeficientes_df = pd.DataFrame(mean_alpha)\n",
    "print(\"---------------------------------------------------\")\n",
    "print(coeficientes_df)\n",
    "print(\"---------------------------------------------------\")\n"
   ]
  },
  {
   "cell_type": "markdown",
   "metadata": {},
   "source": [
    "06) Média ponderada para cada material"
   ]
  },
  {
   "cell_type": "code",
   "execution_count": 8,
   "metadata": {},
   "outputs": [],
   "source": [
    "def calculo_media_ponderada(material, frequencias, mean_alpha):\n",
    "    media_ponderada = 0\n",
    "    \n",
    "    for freq in frequencias:\n",
    "        media_ponderada += mean_alpha[material][freq]\n",
    "        \n",
    "    return media_ponderada / len(frequencias)"
   ]
  },
  {
   "cell_type": "markdown",
   "metadata": {},
   "source": [
    "07) Média ponderada para cada linha do DataFrame\n"
   ]
  },
  {
   "cell_type": "code",
   "execution_count": 9,
   "metadata": {},
   "outputs": [],
   "source": [
    "medias_ponderadas = []\n",
    "\n",
    "for material in dados[\"Material\"]:\n",
    "    media_ponderada = calculo_media_ponderada(material, frequencias, mean_alpha)\n",
    "    medias_ponderadas.append(media_ponderada)"
   ]
  },
  {
   "cell_type": "code",
   "execution_count": 10,
   "metadata": {},
   "outputs": [
    {
     "name": "stdout",
     "output_type": "stream",
     "text": [
      "            Áreas  Superfícies (m²)        Material       NRC\n",
      "0  Parede Lateral           38.4028  Parede Pintada  0.070000\n",
      "1    Parede Fundo           22.1300  Parede Pintada  0.070000\n",
      "2   Parede Frente           25.7700  Parede Pintada  0.070000\n",
      "3            Piso           50.0650   Piso Cerâmico  0.015000\n",
      "4            Teto           50.0650  Parede Pintada  0.070000\n",
      "5           Porta            1.9400           Porta  0.018333\n",
      "6          Janela            5.5800           Vidro  0.026667\n"
     ]
    }
   ],
   "source": [
    "dados[\"NRC\"] = medias_ponderadas\n",
    "df = pd.DataFrame(dados)\n",
    "print(df)"
   ]
  },
  {
   "cell_type": "markdown",
   "metadata": {},
   "source": [
    "08) Calculo da absorção para cada área em cada frequência"
   ]
  },
  {
   "cell_type": "code",
   "execution_count": 11,
   "metadata": {},
   "outputs": [
    {
     "name": "stdout",
     "output_type": "stream",
     "text": [
      "------------------------------------------------------------------------\n",
      "Absorção por área em cada frequência:\n",
      "                    125      250       500      1000      2000      4000\n",
      "Parede Lateral  5.376392  3.84028  2.304168  1.92014  1.536112  1.152084\n",
      "Parede Fundo    3.098200  2.21300  1.327800  1.10650  0.885200  0.663900\n",
      "Parede Frente   3.607800  2.57700  1.546200  1.28850  1.030800  0.773100\n",
      "Piso            0.500650  0.50065  0.500650  1.00130  1.001300  1.001300\n",
      "Teto            7.009100  5.00650  3.003900  2.50325  2.002600  1.501950\n",
      "Porta           0.097000  0.00000  0.058200  0.00000  0.058200  0.000000\n",
      "Janela          0.558000  0.00000  0.223200  0.00000  0.111600  0.000000\n",
      "------------------------------------------------------------------------\n"
     ]
    }
   ],
   "source": [
    "absorcao_por_area = {} \n",
    "\n",
    "for index, row in df.iterrows():\n",
    "    area = row[\"Superfícies (m²)\"]\n",
    "    material = row[\"Material\"]\n",
    "    coeficientes_material = mean_alpha[material]\n",
    "    \n",
    "    absorcao_por_frequencia = []\n",
    "    for freq in frequencias:\n",
    "        absorcao = area * coeficientes_material[freq]\n",
    "        absorcao_por_frequencia.append(absorcao)\n",
    "    \n",
    "    absorcao_por_area[row[\"Áreas\"]] = absorcao_por_frequencia\n",
    "    \n",
    "# Crie um novo DataFrame para armazenar a absorção por área em cada frequência\n",
    "absorcao_df = pd.DataFrame(absorcao_por_area, index=frequencias).T\n",
    "\n",
    "print(\"------------------------------------------------------------------------\")\n",
    "print(\"Absorção por área em cada frequência:\")\n",
    "print(absorcao_df)\n",
    "print(\"------------------------------------------------------------------------\")"
   ]
  },
  {
   "cell_type": "markdown",
   "metadata": {},
   "source": [
    "09) Soma dos valores por coluna"
   ]
  },
  {
   "cell_type": "code",
   "execution_count": 12,
   "metadata": {},
   "outputs": [
    {
     "name": "stdout",
     "output_type": "stream",
     "text": [
      "---------------------------------------------------\n",
      "Soma dos valores de cada coluna:\n",
      "125     20.247142\n",
      "250     14.137430\n",
      "500      8.964118\n",
      "1000     7.819690\n",
      "2000     6.625812\n",
      "4000     5.092334\n",
      "dtype: float64\n",
      "---------------------------------------------------\n"
     ]
    }
   ],
   "source": [
    "soma_por_frequencia = absorcao_df.sum()\n",
    "\n",
    "# Imprima os resultados\n",
    "print(\"---------------------------------------------------\")\n",
    "print(\"Soma dos valores de cada coluna:\")\n",
    "print(soma_por_frequencia)\n",
    "print(\"---------------------------------------------------\")"
   ]
  },
  {
   "cell_type": "markdown",
   "metadata": {},
   "source": [
    "10) Calculo dp coeficiente de absorção médio em cada frequência\n"
   ]
  },
  {
   "cell_type": "code",
   "execution_count": 13,
   "metadata": {},
   "outputs": [],
   "source": [
    "# Calcular o coeficiente de absorção médio em cada frequência\n",
    "absorcao_medio_125 = soma_por_frequencia[125] / area_Total_Superficies\n",
    "absorcao_medio_250 = soma_por_frequencia[250] / area_Total_Superficies\n",
    "absorcao_medio_500 = soma_por_frequencia[500] / area_Total_Superficies\n",
    "absorcao_medio_1000 = soma_por_frequencia[1000] / area_Total_Superficies\n",
    "absorcao_medio_2000 = soma_por_frequencia[2000] / area_Total_Superficies\n",
    "absorcao_medio_4000 = soma_por_frequencia[4000] / area_Total_Superficies"
   ]
  },
  {
   "cell_type": "markdown",
   "metadata": {},
   "source": [
    "11. Criar um dicionário com os dados até o momento"
   ]
  },
  {
   "cell_type": "code",
   "execution_count": 14,
   "metadata": {},
   "outputs": [
    {
     "name": "stdout",
     "output_type": "stream",
     "text": [
      "-----------------------------------------------------\n",
      "Novo DataFrame com Frequência, Soma e Absorção Média:\n",
      "   Frequência (Hz)       Soma  Absorção Média\n",
      "0              125  20.247142        0.104392\n",
      "1              250  14.137430        0.072891\n",
      "2              500   8.964118        0.046218\n",
      "3             1000   7.819690        0.040317\n",
      "4             2000   6.625812        0.034162\n",
      "5             4000   5.092334        0.026256\n",
      "-----------------------------------------------------\n"
     ]
    }
   ],
   "source": [
    "# Criar um dicionário com os dados\n",
    "dados = {\n",
    "    \"Frequência (Hz)\": frequencias,\n",
    "    \"Soma\": [\n",
    "        soma_por_frequencia[125],\n",
    "        soma_por_frequencia[250],\n",
    "        soma_por_frequencia[500],\n",
    "        soma_por_frequencia[1000],\n",
    "        soma_por_frequencia[2000],\n",
    "        soma_por_frequencia[4000]\n",
    "    ],\n",
    "    \"Absorção Média\": [\n",
    "        absorcao_medio_125,\n",
    "        absorcao_medio_250,\n",
    "        absorcao_medio_500,\n",
    "        absorcao_medio_1000,\n",
    "        absorcao_medio_2000,\n",
    "        absorcao_medio_4000\n",
    "    ]\n",
    "}\n",
    "\n",
    "# Criar um novo DataFrame com os dados\n",
    "novo_df = pd.DataFrame(dados)\n",
    "\n",
    "# Imprimir o novo DataFrame\n",
    "print(\"-----------------------------------------------------\")\n",
    "print(\"Novo DataFrame com Frequência, Soma e Absorção Média:\")\n",
    "print(novo_df)\n",
    "print(\"-----------------------------------------------------\")"
   ]
  },
  {
   "cell_type": "markdown",
   "metadata": {},
   "source": [
    "12) Rt60 Sabine"
   ]
  },
  {
   "cell_type": "code",
   "execution_count": 15,
   "metadata": {},
   "outputs": [
    {
     "name": "stdout",
     "output_type": "stream",
     "text": [
      "   Frequência (Hz)       Soma  Absorção Média    Sabine\n",
      "0              125  20.247142        0.104392  1.297819\n",
      "1              250  14.137430        0.072891  1.858691\n",
      "2              500   8.964118        0.046218  2.931367\n",
      "3             1000   7.819690        0.040317  3.360378\n",
      "4             2000   6.625812        0.034162  3.965871\n",
      "5             4000   5.092334        0.026256  5.160132\n"
     ]
    }
   ],
   "source": [
    "t60_125 = 0.161 * (volume / (area_Total_Superficies * absorcao_medio_125))\n",
    "t60_250 = 0.161 * (volume / (area_Total_Superficies * absorcao_medio_250))\n",
    "t60_500 = 0.161 * (volume / (area_Total_Superficies * absorcao_medio_500))\n",
    "t60_1000 = 0.161 * (volume / (area_Total_Superficies * absorcao_medio_1000))\n",
    "t60_2000 = 0.161 * (volume / (area_Total_Superficies * absorcao_medio_2000))\n",
    "t60_4000 = 0.161 * (volume / (area_Total_Superficies * absorcao_medio_4000))\n",
    "\n",
    "\n",
    "valores_sabine = [t60_125, t60_250, t60_500, t60_1000, t60_2000, t60_4000]\n",
    "\n",
    "novo_df[\"Sabine\"] = valores_sabine\n",
    "\n",
    "print(novo_df)"
   ]
  },
  {
   "cell_type": "markdown",
   "metadata": {},
   "source": [
    "13) Rt60 Norris-Eyring"
   ]
  },
  {
   "cell_type": "code",
   "execution_count": 16,
   "metadata": {},
   "outputs": [
    {
     "name": "stdout",
     "output_type": "stream",
     "text": [
      "   Frequência (Hz)       Soma  Absorção Média    Sabine    Eyring\n",
      "0              125  20.247142        0.104392  1.297819  1.228833\n",
      "1              250  14.137430        0.072891  1.858691  1.790096\n",
      "2              500   8.964118        0.046218  2.931367  2.863091\n",
      "3             1000   7.819690        0.040317  3.360378  3.292173\n",
      "4             2000   6.625812        0.034162  3.965871  3.897738\n",
      "5             4000   5.092334        0.026256  5.160132  5.092091\n"
     ]
    }
   ],
   "source": [
    "t60_e_125 = -(0.161 * volume) / (area_Total_Superficies * math.log(1 - absorcao_medio_125))\n",
    "t60_e_250 = -(0.161 * volume) / (area_Total_Superficies * math.log(1 - absorcao_medio_250))\n",
    "t60_e_500 = -(0.161 * volume) / (area_Total_Superficies * math.log(1 - absorcao_medio_500))\n",
    "t60_e_1000 = -(0.161 * volume) / (area_Total_Superficies * math.log(1 - absorcao_medio_1000))\n",
    "t60_e_2000 = -(0.161 * volume) / (area_Total_Superficies * math.log(1 - absorcao_medio_2000))\n",
    "t60_e_4000 = -(0.161 * volume) / (area_Total_Superficies * math.log(1 - absorcao_medio_4000))\n",
    "\n",
    "valores_Eyring = [t60_e_125, t60_e_250, t60_e_500, t60_e_1000, t60_e_2000, t60_e_4000]\n",
    "\n",
    "novo_df[\"Eyring\"] = valores_Eyring\n",
    "\n",
    "print(novo_df)"
   ]
  },
  {
   "cell_type": "markdown",
   "metadata": {},
   "source": [
    "14) Cria um Grafico"
   ]
  },
  {
   "cell_type": "code",
   "execution_count": 17,
   "metadata": {},
   "outputs": [
    {
     "data": {
      "image/png": "[encoded data removed]",
      "text/plain": [
       "<Figure size 1200x600 with 1 Axes>"
      ]
     },
     "metadata": {},
     "output_type": "display_data"
    }
   ],
   "source": [
    "frequencias = [\"125\", \"250\", \"500\", \"1000\", \"2000\", \"4000\"]\n",
    "t60_valores_1 = [t60_e_125, t60_e_250, t60_e_500, t60_e_1000, t60_e_2000, t60_e_4000]\n",
    "t60_valores_2 = [t60_125, t60_250, t60_500, t60_1000, t60_2000, t60_4000]\n",
    "\n",
    "dados = {\n",
    "    \"Frequência (Hz)\": frequencias * 2,\n",
    "    \"T60 (s)\": t60_valores_1 + t60_valores_2,\n",
    "    \"Método\": [\"Norris-Eyring\"] * len(frequencias) + [\"Sabine\"] * len(frequencias)\n",
    "}\n",
    "\n",
    "df_plot = pd.DataFrame(dados)\n",
    "\n",
    "plt.figure(figsize=(12, 6))\n",
    "sns.lineplot(x=\"Frequência (Hz)\", y=\"T60 (s)\", hue=\"Método\", marker=\"o\", style=\"Método\", data=df_plot)\n",
    "plt.title('Tempo de Reverberação (Rt60)')\n",
    "plt.xlabel('Frequência (Hz)')\n",
    "plt.ylabel('Rt60 (s)')\n",
    "plt.grid(True)\n",
    "plt.show()"
   ]
  }
 ],
 "metadata": {
  "kernelspec": {
   "display_name": "Python 3",
   "language": "python",
   "name": "python3"
  },
  "language_info": {
   "codemirror_mode": {
    "name": "ipython",
    "version": 3
   },
   "file_extension": ".py",
   "mimetype": "text/x-python",
   "name": "python",
   "nbconvert_exporter": "python",
   "pygments_lexer": "ipython3",
   "version": "3.11.4"
  }
 },
 "nbformat": 4,
 "nbformat_minor": 2
}
