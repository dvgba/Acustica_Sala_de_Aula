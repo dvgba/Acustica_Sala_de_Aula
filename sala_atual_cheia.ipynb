{
 "cells": [
  {
   "cell_type": "code",
   "execution_count": 12,
   "metadata": {},
   "outputs": [],
   "source": [
    "import pandas as pd\n",
    "import matplotlib.pyplot as plt\n",
    "import math\n",
    "import seaborn as sns\n",
    "from PIL import Image"
   ]
  },
  {
   "cell_type": "markdown",
   "metadata": {},
   "source": [
    "01) Dados da Sala de Aula em situação vazia:"
   ]
  },
  {
   "cell_type": "code",
   "execution_count": 13,
   "metadata": {},
   "outputs": [],
   "source": [
    "# Velocidade sonora a 20*C\n",
    "SOUNDSPEED = 343\n",
    "\n",
    "# Dimensões da sala em metros\n",
    "comprimento = 5.89\n",
    "largura = 8.50\n",
    "altura = 3.26\n",
    "\n",
    "# areas em m²\n",
    "janela = 5.58\n",
    "porta = 1.94\n",
    "quadro = 5.45\n",
    "\n",
    "# Dados dos alunos, professores, tela e mesas\n",
    "alunos_area = 30 \n",
    "professores_area = 1 \n",
    "tela_area = 5.6\n",
    "mesas_area = 2"
   ]
  },
  {
   "cell_type": "markdown",
   "metadata": {},
   "source": [
    "02) Calculo de Área total (S)  "
   ]
  },
  {
   "cell_type": "code",
   "execution_count": 14,
   "metadata": {},
   "outputs": [
    {
     "name": "stdout",
     "output_type": "stream",
     "text": [
      "A area total das Superficies será: S = 193.95 m²\n"
     ]
    }
   ],
   "source": [
    "# Áreas Superficies\n",
    "parede_lateral = (comprimento * altura) * 2\n",
    "parede_fundo = (largura * altura) - janela\n",
    "parede_frente = (largura * altura) - porta\n",
    "piso = largura * comprimento\n",
    "teto = largura * comprimento\n",
    "volume = comprimento * largura * altura\n",
    "area_Total_Superficies = parede_lateral + parede_fundo + parede_frente + piso + teto + porta + janela\n",
    "print(f\"A area total das Superficies será: S = {area_Total_Superficies:.2f} m²\", )"
   ]
  },
  {
   "cell_type": "markdown",
   "metadata": {},
   "source": [
    "03) Criação de um Dataframe preliminar com informações da Sala"
   ]
  },
  {
   "cell_type": "code",
   "execution_count": 15,
   "metadata": {},
   "outputs": [
    {
     "name": "stdout",
     "output_type": "stream",
     "text": [
      "---------------------------------------------------\n",
      "              Áreas  Superfícies (m²)        Material\n",
      "0    Parede Lateral           38.4028  Parede Pintada\n",
      "1      Parede Fundo           22.1300  Parede Pintada\n",
      "2     Parede Frente           25.7700  Parede Pintada\n",
      "3              Piso           50.0650   Piso Cerâmico\n",
      "4              Teto           50.0650  Parede Pintada\n",
      "5             Porta            1.9400           Porta\n",
      "6            Janela            5.5800           Vidro\n",
      "7   Alunos Sentados           30.0000          Alunos\n",
      "8         Professor            1.0000       Professor\n",
      "9              Tela            5.6000            Tela\n",
      "10       Mobiliario            2.0000            Mesa\n",
      "---------------------------------------------------\n"
     ]
    }
   ],
   "source": [
    "dados = {\n",
    "    \"Áreas\": [\"Parede Lateral\", \"Parede Fundo\", \"Parede Frente\", \"Piso\", \"Teto\", \"Porta\", \"Janela\", \"Alunos Sentados\", \"Professor\", \"Tela\", \"Mobiliario\"],\n",
    "    \"Superfícies (m²)\": [parede_lateral, parede_fundo, parede_frente, piso, teto, porta, janela, alunos_area, professores_area, tela_area, mesas_area],\n",
    "    \"Material\":  [\"Parede Pintada\", \"Parede Pintada\", \"Parede Pintada\", \"Piso Cerâmico\", \"Parede Pintada\", \"Porta\", \"Vidro\", \"Alunos\", \"Professor\", \"Tela\", \"Mesa\"]\n",
    "    \n",
    "}\n",
    "\n",
    "df = pd.DataFrame(dados)\n",
    "print(\"---------------------------------------------------\")\n",
    "print(df)\n",
    "print(\"---------------------------------------------------\")"
   ]
  },
  {
   "cell_type": "markdown",
   "metadata": {},
   "source": [
    "04) Frequências sonoras"
   ]
  },
  {
   "cell_type": "code",
   "execution_count": 16,
   "metadata": {},
   "outputs": [],
   "source": [
    "frequencias = [125, 250, 500, 1000, 2000, 4000]"
   ]
  },
  {
   "cell_type": "markdown",
   "metadata": {},
   "source": [
    "05) Inserção de dados dos Coeficientes de absorção dos materiais"
   ]
  },
  {
   "cell_type": "code",
   "execution_count": 17,
   "metadata": {},
   "outputs": [
    {
     "name": "stdout",
     "output_type": "stream",
     "text": [
      "---------------------------------------------------\n",
      "      Piso Cerâmico  Parede Pintada  Porta  Vidro  Alunos  Professor  Tela  \\\n",
      "125            0.01            0.14   0.05   0.10    0.20       0.19   0.2   \n",
      "250            0.01            0.10   0.00   0.00    0.28       0.33   0.0   \n",
      "500            0.01            0.06   0.03   0.04    0.32       0.44   0.5   \n",
      "1000           0.02            0.05   0.00   0.00    0.37       0.42   0.4   \n",
      "2000           0.02            0.04   0.03   0.02    0.41       0.46   0.6   \n",
      "4000           0.02            0.03   0.00   0.00    0.44       0.37   0.0   \n",
      "\n",
      "      Mesa  \n",
      "125   0.04  \n",
      "250   0.04  \n",
      "500   0.04  \n",
      "1000  0.04  \n",
      "2000  0.04  \n",
      "4000  0.04  \n",
      "---------------------------------------------------\n"
     ]
    }
   ],
   "source": [
    "mean_alpha = {\n",
    "    \"Piso Cerâmico\": {125: 0.01, 250: 0.01, 500: 0.01, 1000: 0.02, 2000: 0.02, 4000: 0.02},\n",
    "    \"Parede Pintada\": {125: 0.14, 250: 0.10,  500: 0.06, 1000: 0.05, 2000: 0.04, 4000: 0.03},\n",
    "    \"Porta\": {125: 0.05, 250: 0.00, 500: 0.03, 1000: 0.00, 2000: 0.03, 4000: 0.00},\n",
    "    \"Vidro\": {125: 0.10, 250: 0.00, 500: 0.04, 1000: 0.00, 2000: 0.02, 4000: 0.00},\n",
    "    \"Alunos\": {125:0.20, 250:0.28, 500:0.32, 1000:0.37,\t2000:0.41, 4000:0.44},\n",
    "    \"Professor\": {125:0.19,\t250:0.33, 500:0.44, 1000:0.42, 2000:0.46,\t4000:0.37},\n",
    "    \"Tela\": {125:0.20, 250:0.00, 500:0.50, 1000:0.40, 2000:0.60, 4000:0.00},\n",
    "    \"Mesa\": {125:0.04, 250:0.04, 500:0.04, 1000:0.04, 2000:0.04, 4000:0.04}\n",
    "}\n",
    "\n",
    "# Adicionar nessa tabela aqui embaixo outros materiais\n",
    "\n",
    "coeficientes_df = pd.DataFrame(mean_alpha)\n",
    "print(\"---------------------------------------------------\")\n",
    "print(coeficientes_df)\n",
    "print(\"---------------------------------------------------\")\n"
   ]
  },
  {
   "cell_type": "markdown",
   "metadata": {},
   "source": [
    "06) Média ponderada para cada material"
   ]
  },
  {
   "cell_type": "code",
   "execution_count": 29,
   "metadata": {},
   "outputs": [],
   "source": [
    "def calculo_media_ponderada(material, frequencias, mean_alpha):\n",
    "    media_ponderada = 0\n",
    "    \n",
    "    for freq in frequencias:\n",
    "        media_ponderada += mean_alpha[material][freq]\n",
    "        \n",
    "    return media_ponderada / len(frequencias)"
   ]
  },
  {
   "cell_type": "markdown",
   "metadata": {},
   "source": [
    "07) Média ponderada para cada linha do DataFrame\n"
   ]
  },
  {
   "cell_type": "code",
   "execution_count": null,
   "metadata": {},
   "outputs": [],
   "source": [
    "medias_ponderadas = []\n",
    "\n",
    "for material in dados[\"Material\"]:\n",
    "    media_ponderada = calculo_media_ponderada(material, frequencias, mean_alpha)\n",
    "    medias_ponderadas.append(media_ponderada)"
   ]
  },
  {
   "cell_type": "code",
   "execution_count": null,
   "metadata": {},
   "outputs": [],
   "source": [
    "dados[\"NRC\"] = medias_ponderadas\n",
    "df = pd.DataFrame(dados)\n",
    "print(df)"
   ]
  },
  {
   "cell_type": "markdown",
   "metadata": {},
   "source": [
    "08) Calculo da absorção para cada área em cada frequência"
   ]
  },
  {
   "cell_type": "code",
   "execution_count": null,
   "metadata": {},
   "outputs": [],
   "source": [
    "absorcao_por_area = {} \n",
    "\n",
    "for index, row in df.iterrows():\n",
    "    area = row[\"Superfícies (m²)\"]\n",
    "    material = row[\"Material\"]\n",
    "    coeficientes_material = mean_alpha[material]\n",
    "    \n",
    "    absorcao_por_frequencia = []\n",
    "    for freq in frequencias:\n",
    "        absorcao = area * coeficientes_material[freq]\n",
    "        absorcao_por_frequencia.append(absorcao)\n",
    "    \n",
    "    absorcao_por_area[row[\"Áreas\"]] = absorcao_por_frequencia\n",
    "    \n",
    "# Crie um novo DataFrame para armazenar a absorção por área em cada frequência\n",
    "absorcao_df = pd.DataFrame(absorcao_por_area, index=frequencias).T\n",
    "\n",
    "print(\"------------------------------------------------------------------------\")\n",
    "print(\"Absorção por área em cada frequência:\")\n",
    "print(absorcao_df)\n",
    "print(\"------------------------------------------------------------------------\")"
   ]
  },
  {
   "cell_type": "markdown",
   "metadata": {},
   "source": [
    "09) Soma dos valores por coluna"
   ]
  },
  {
   "cell_type": "code",
   "execution_count": 33,
   "metadata": {},
   "outputs": [
    {
     "name": "stdout",
     "output_type": "stream",
     "text": [
      "---------------------------------------------------\n",
      "Soma dos valores de cada coluna:\n",
      "125     27.637142\n",
      "250     22.947430\n",
      "500     21.884118\n",
      "1000    21.659690\n",
      "2000    22.825812\n",
      "4000    18.742334\n",
      "dtype: float64\n",
      "---------------------------------------------------\n"
     ]
    }
   ],
   "source": [
    "soma_por_frequencia = absorcao_df.sum()\n",
    "\n",
    "# Imprima os resultados\n",
    "print(\"---------------------------------------------------\")\n",
    "print(\"Soma dos valores de cada coluna:\")\n",
    "print(soma_por_frequencia)\n",
    "print(\"---------------------------------------------------\")"
   ]
  },
  {
   "cell_type": "markdown",
   "metadata": {},
   "source": [
    "10) Calculo dp coeficiente de absorção médio em cada frequência\n"
   ]
  },
  {
   "cell_type": "code",
   "execution_count": 35,
   "metadata": {},
   "outputs": [],
   "source": [
    "# Calcular o coeficiente de absorção médio em cada frequência\n",
    "absorcao_medio_125 = soma_por_frequencia[125] / area_Total_Superficies\n",
    "absorcao_medio_250 = soma_por_frequencia[250] / area_Total_Superficies\n",
    "absorcao_medio_500 = soma_por_frequencia[500] / area_Total_Superficies\n",
    "absorcao_medio_1000 = soma_por_frequencia[1000] / area_Total_Superficies\n",
    "absorcao_medio_2000 = soma_por_frequencia[2000] / area_Total_Superficies\n",
    "absorcao_medio_4000 = soma_por_frequencia[4000] / area_Total_Superficies"
   ]
  },
  {
   "cell_type": "markdown",
   "metadata": {},
   "source": [
    "11. Criar um dicionário com os dados até o momento"
   ]
  },
  {
   "cell_type": "code",
   "execution_count": 36,
   "metadata": {},
   "outputs": [
    {
     "name": "stdout",
     "output_type": "stream",
     "text": [
      "-----------------------------------------------------\n",
      "Novo DataFrame com Frequência, Soma e Absorção Média:\n",
      "  Frequência (Hz)       Soma  Absorção Média\n",
      "0             125  27.637142        0.142494\n",
      "1             250  22.947430        0.118315\n",
      "2             500  21.884118        0.112832\n",
      "3            1000  21.659690        0.111675\n",
      "4            2000  22.825812        0.117687\n",
      "5            4000  18.742334        0.096633\n",
      "-----------------------------------------------------\n"
     ]
    }
   ],
   "source": [
    "# Criar um dicionário com os dados\n",
    "dados = {\n",
    "    \"Frequência (Hz)\": frequencias,\n",
    "    \"Soma\": [\n",
    "        soma_por_frequencia[125],\n",
    "        soma_por_frequencia[250],\n",
    "        soma_por_frequencia[500],\n",
    "        soma_por_frequencia[1000],\n",
    "        soma_por_frequencia[2000],\n",
    "        soma_por_frequencia[4000]\n",
    "    ],\n",
    "    \"Absorção Média\": [\n",
    "        absorcao_medio_125,\n",
    "        absorcao_medio_250,\n",
    "        absorcao_medio_500,\n",
    "        absorcao_medio_1000,\n",
    "        absorcao_medio_2000,\n",
    "        absorcao_medio_4000\n",
    "    ]\n",
    "}\n",
    "\n",
    "# Criar um novo DataFrame com os dados\n",
    "novo_df = pd.DataFrame(dados)\n",
    "\n",
    "# Imprimir o novo DataFrame\n",
    "print(\"-----------------------------------------------------\")\n",
    "print(\"Novo DataFrame com Frequência, Soma e Absorção Média:\")\n",
    "print(novo_df)\n",
    "print(\"-----------------------------------------------------\")"
   ]
  },
  {
   "cell_type": "markdown",
   "metadata": {},
   "source": [
    "12) Rt60 Sabine"
   ]
  },
  {
   "cell_type": "code",
   "execution_count": 37,
   "metadata": {},
   "outputs": [
    {
     "name": "stdout",
     "output_type": "stream",
     "text": [
      "  Frequência (Hz)       Soma  Absorção Média    Sabine\n",
      "0             125  27.637142        0.142494  0.950790\n",
      "1             250  22.947430        0.118315  1.145101\n",
      "2             500  21.884118        0.112832  1.200739\n",
      "3            1000  21.659690        0.111675  1.213181\n",
      "4            2000  22.825812        0.117687  1.151202\n",
      "5            4000  18.742334        0.096633  1.402019\n"
     ]
    }
   ],
   "source": [
    "t60_125 = 0.161 * (volume / (area_Total_Superficies * absorcao_medio_125))\n",
    "t60_250 = 0.161 * (volume / (area_Total_Superficies * absorcao_medio_250))\n",
    "t60_500 = 0.161 * (volume / (area_Total_Superficies * absorcao_medio_500))\n",
    "t60_1000 = 0.161 * (volume / (area_Total_Superficies * absorcao_medio_1000))\n",
    "t60_2000 = 0.161 * (volume / (area_Total_Superficies * absorcao_medio_2000))\n",
    "t60_4000 = 0.161 * (volume / (area_Total_Superficies * absorcao_medio_4000))\n",
    "\n",
    "\n",
    "valores_sabine = [t60_125, t60_250, t60_500, t60_1000, t60_2000, t60_4000]\n",
    "\n",
    "novo_df[\"Sabine\"] = valores_sabine\n",
    "\n",
    "print(novo_df)"
   ]
  },
  {
   "cell_type": "markdown",
   "metadata": {},
   "source": [
    "13) Rt60 Norris-Eyring"
   ]
  },
  {
   "cell_type": "code",
   "execution_count": 38,
   "metadata": {},
   "outputs": [
    {
     "name": "stdout",
     "output_type": "stream",
     "text": [
      "  Frequência (Hz)       Soma  Absorção Média    Sabine    Eyring\n",
      "0             125  27.637142        0.142494  0.950790  0.881314\n",
      "1             250  22.947430        0.118315  1.145101  1.075938\n",
      "2             500  21.884118        0.112832  1.200739  1.131647\n",
      "3            1000  21.659690        0.111675  1.213181  1.144103\n",
      "4            2000  22.825812        0.117687  1.151202  1.082048\n",
      "5            4000  18.742334        0.096633  1.402019  1.333131\n"
     ]
    }
   ],
   "source": [
    "t60_e_125 = -(0.161 * volume) / (area_Total_Superficies * math.log(1 - absorcao_medio_125))\n",
    "t60_e_250 = -(0.161 * volume) / (area_Total_Superficies * math.log(1 - absorcao_medio_250))\n",
    "t60_e_500 = -(0.161 * volume) / (area_Total_Superficies * math.log(1 - absorcao_medio_500))\n",
    "t60_e_1000 = -(0.161 * volume) / (area_Total_Superficies * math.log(1 - absorcao_medio_1000))\n",
    "t60_e_2000 = -(0.161 * volume) / (area_Total_Superficies * math.log(1 - absorcao_medio_2000))\n",
    "t60_e_4000 = -(0.161 * volume) / (area_Total_Superficies * math.log(1 - absorcao_medio_4000))\n",
    "\n",
    "valores_Eyring = [t60_e_125, t60_e_250, t60_e_500, t60_e_1000, t60_e_2000, t60_e_4000]\n",
    "\n",
    "novo_df[\"Eyring\"] = valores_Eyring\n",
    "\n",
    "print(novo_df)"
   ]
  },
  {
   "cell_type": "markdown",
   "metadata": {},
   "source": [
    "14) Cria um Grafico"
   ]
  },
  {
   "cell_type": "code",
   "execution_count": 39,
   "metadata": {},
   "outputs": [
    {
     "data": {
      "image/png": "[encoded data removed]",
      "text/plain": [
       "<Figure size 1200x600 with 1 Axes>"
      ]
     },
     "metadata": {},
     "output_type": "display_data"
    }
   ],
   "source": [
    "frequencias = [\"125\", \"250\", \"500\", \"1000\", \"2000\", \"4000\"]\n",
    "t60_valores_1 = [t60_e_125, t60_e_250, t60_e_500, t60_e_1000, t60_e_2000, t60_e_4000]\n",
    "t60_valores_2 = [t60_125, t60_250, t60_500, t60_1000, t60_2000, t60_4000]\n",
    "\n",
    "dados = {\n",
    "    \"Frequência (Hz)\": frequencias * 2,\n",
    "    \"T60 (s)\": t60_valores_1 + t60_valores_2,\n",
    "    \"Método\": [\"Norris-Eyring\"] * len(frequencias) + [\"Sabine\"] * len(frequencias)\n",
    "}\n",
    "\n",
    "df_plot = pd.DataFrame(dados)\n",
    "\n",
    "plt.figure(figsize=(12, 6))\n",
    "sns.lineplot(x=\"Frequência (Hz)\", y=\"T60 (s)\", hue=\"Método\", marker=\"o\", style=\"Método\", data=df_plot)\n",
    "plt.title('Tempo de Reverberação (Rt60)')\n",
    "plt.xlabel('Frequência (Hz)')\n",
    "plt.ylabel('Rt60 (s)')\n",
    "plt.grid(True)\n",
    "plt.show()"
   ]
  },
  {
   "cell_type": "code",
   "execution_count": 40,
   "metadata": {},
   "outputs": [
    {
     "name": "stdout",
     "output_type": "stream",
     "text": [
      "Gráficos combinados com sucesso!\n"
     ]
    }
   ],
   "source": [
    "# Abra as imagens exportadas\n",
    "imagem1 = Image.open('../Simulações/sala_atual_cheia.png')\n",
    "imagem2 = Image.open('../Simulações/sala_atual_vazia.png')  # Altere para o nome do segundo arquivo de imagem\n",
    "\n",
    "# Obtém o tamanho da imagem 1\n",
    "largura_imagem1, altura_imagem1 = imagem1.size\n",
    "\n",
    "# Obtém o tamanho da imagem 2\n",
    "largura_imagem2, altura_imagem2 = imagem2.size\n",
    "\n",
    "# Crie uma nova imagem com a largura total e a altura combinada\n",
    "largura_total = largura_imagem1 + largura_imagem2\n",
    "altura_total = max(altura_imagem1, altura_imagem2)\n",
    "imagem_combinada = Image.new('RGB', (largura_total, altura_total))\n",
    "\n",
    "# Cole as imagens na imagem combinada\n",
    "imagem_combinada.paste(imagem1, (0, 0))\n",
    "imagem_combinada.paste(imagem2, (largura_imagem1, 0))\n",
    "\n",
    "# Salve a imagem combinada\n",
    "imagem_combinada.save('graficos_combinados.png')\n",
    "\n",
    "print('Gráficos combinados com sucesso!')"
   ]
  }
 ],
 "metadata": {
  "kernelspec": {
   "display_name": "Python 3",
   "language": "python",
   "name": "python3"
  },
  "language_info": {
   "codemirror_mode": {
    "name": "ipython",
    "version": 3
   },
   "file_extension": ".py",
   "mimetype": "text/x-python",
   "name": "python",
   "nbconvert_exporter": "python",
   "pygments_lexer": "ipython3",
   "version": "3.11.4"
  }
 },
 "nbformat": 4,
 "nbformat_minor": 2
}
